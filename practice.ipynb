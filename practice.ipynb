{
 "cells": [
  {
   "cell_type": "code",
   "execution_count": 2,
   "metadata": {},
   "outputs": [
    {
     "name": "stdout",
     "output_type": "stream",
     "text": [
      "ohshit\n",
      "27 is your number cubed\n",
      "81 is your number to the fourth\n",
      "hot damn it works\n",
      "3 is an ok choice\n"
     ]
    }
   ],
   "source": [
    "print(\"ohshit\")\n",
    "\n",
    "num = int(input(\"Enter a number\"))\n",
    "\n",
    "num3 = num**3\n",
    "num4 = num**4\n",
    "\n",
    "print(num3, \"is your number cubed\")\n",
    "print(num4, \"is your number to the fourth\")\n",
    "print(\"hot damn it works\")\n",
    "\n",
    "if num == 3:\n",
    "    print(\"3 is an ok choice\")\n"
   ]
  },
  {
   "cell_type": "code",
   "execution_count": 2,
   "metadata": {},
   "outputs": [
    {
     "ename": "SyntaxError",
     "evalue": "invalid syntax (711474888.py, line 1)",
     "output_type": "error",
     "traceback": [
      "\u001b[0;36m  File \u001b[0;32m\"/var/folders/rf/tflq3d317b13szdhvc9bghjh0000gn/T/ipykernel_67308/711474888.py\"\u001b[0;36m, line \u001b[0;32m1\u001b[0m\n\u001b[0;31m    import pandas() as p\u001b[0m\n\u001b[0m                 ^\u001b[0m\n\u001b[0;31mSyntaxError\u001b[0m\u001b[0;31m:\u001b[0m invalid syntax\n"
     ]
    }
   ],
   "source": []
  }
 ],
 "metadata": {
  "kernelspec": {
   "display_name": "Python 3.9.5 64-bit",
   "language": "python",
   "name": "python3"
  },
  "language_info": {
   "codemirror_mode": {
    "name": "ipython",
    "version": 3
   },
   "file_extension": ".py",
   "mimetype": "text/x-python",
   "name": "python",
   "nbconvert_exporter": "python",
   "pygments_lexer": "ipython3",
   "version": "3.9.5"
  },
  "orig_nbformat": 4,
  "vscode": {
   "interpreter": {
    "hash": "aee8b7b246df8f9039afb4144a1f6fd8d2ca17a180786b69acc140d282b71a49"
   }
  }
 },
 "nbformat": 4,
 "nbformat_minor": 2
}
